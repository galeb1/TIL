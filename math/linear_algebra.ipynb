{
 "cells": [
  {
   "cell_type": "markdown",
   "metadata": {},
   "source": [
    "## 선형대수학 (Linear algebra)\n",
    "\n",
    "##### - 데이터를 벡터로 이해하기"
   ]
  },
  {
   "cell_type": "markdown",
   "metadata": {},
   "source": [
    "- 벡터란?\n",
    "\n",
    "    여러개의 값을 하나로 묶은 것"
   ]
  },
  {
   "cell_type": "markdown",
   "metadata": {},
   "source": [
    "- 벡터와 관련된 용어들\n",
    "\n",
    "  1. 기저(basis) = 축(axis)\n",
    "  2. 차원(dimension) = 벡터의 원소(특정 value) 개수\n",
    "  3. 원소(element) = 벡터(데이터 row(행단위))\n",
    "\n",
    "벡터의 원소 개수와 벡터공간의 기저 개수는 같다.\n",
    "어떤 축(기준)을 가지고 데이터를 벡터로 표현할 것인가"
   ]
  },
  {
   "cell_type": "markdown",
   "metadata": {},
   "source": [
    "- 벡터 공간에 대한 이해\n",
    "\n",
    "  1. 벡터 공간(Vector Space) = 집합\n",
    "  2. 벡터의 크기(norm) = 벡터의 길이\n",
    "  3. 방향(direction) = 단위 벡터(unit vector)\n",
    "\n",
    "* 벡터의 길이란 : 원점에서 벡터가 찍혀있는 점을 이은 길이"
   ]
  },
  {
   "cell_type": "markdown",
   "metadata": {},
   "source": [
    "- 벡터 기본 연산 : 데이터의 특징을 파악할 수 있는 기본 연산\n",
    "\n",
    " N 차원의 벡터 x = (x1, x2, ..., xn)와 y = (y1, y2, ..., yn)\n",
    " 1. 벡터의 크기 : |x| = (x^2 + x^2 + ... + xn^2)^(1/2) : (L2 norm)\n",
    " 2. 벡터의 덧셈 : x + y =  (x1 + y1, x2 + y2, ..., xn + yn)\n",
    " 3. 벡터의 뺄셈 : x - y =  (x1 - y1, x2 - y2, ..., xn - yn)\n",
    " 4. 스칼라 배 : ax = (ax1, ax2, ..., axn)\n",
    " 5. 벡터의 내적 : x * y = (x1 * y1, x2 * y2, ..., xn * yn)\n",
    "\n",
    " - 벡터의 연산은 같은 차원의 벡터들 사이에서만 가능"
   ]
  },
  {
   "cell_type": "code",
   "execution_count": 15,
   "metadata": {},
   "outputs": [
    {
     "data": {
      "text/plain": [
       "12.0"
      ]
     },
     "execution_count": 15,
     "metadata": {},
     "output_type": "execute_result"
    }
   ],
   "source": [
    "import numpy as np\n",
    "x1 = np.array([0, 1, 3])\n",
    "x2 = np.array([0.1, 9, 1])\n",
    "x3 = x1 * x2\n",
    "sum = 0\n",
    "for i in range(len(x3)):\n",
    "    sum += x3[i]\n",
    "sum"
   ]
  },
  {
   "cell_type": "markdown",
   "metadata": {},
   "source": [
    "- 벡터 간 거리 : 데이터(벡터) 사이의 유사성 측정\n",
    "\n",
    "  N 차원의 벡터 x = (x1, x2, ..., xn)와 y = (y1, y2, ..., yn)\n",
    "  1. Manhattan Distance (L1 distance) : sum_all|xi - yi|\n",
    "  2. Euclidean Distance (L2 distance) : (sum_all((xi - yi)^2))^(1/2)\n",
    "\n",
    "* 유사성 : 거리함수(distance function) : 클수록 멀고 가까울수록 작다.\n",
    "* 코사인 유사도(cosine similarity) : cos0 = x * y / |x|*|y| -> \n",
    "1은 똑같다, 0은 관계가 없다 즉 클수록 가깝고 작을수록 멀다\n",
    "\n",
    "* cosin distance = 1 - cos0 : 클수록 멀고 가까울수록 작다."
   ]
  },
  {
   "cell_type": "markdown",
   "metadata": {},
   "source": [
    "- Feature Space의 정의 : 주어진 데이터의 특징을 정의한 벡터 공간\n",
    "\n",
    " 1. 주어진 데이터 중에 필요한 특징만을 추출하여 벡터로 표현한 것\n",
    " 2. 특징 선별(feature selection)\n",
    " 3. 특징을 추출(feature extraction)하는 방법은 차원 축소 모델을 사용\n",
    "\n",
    "* raw data === feature engineering ===>> feature vector\n",
    "* text -> embedding model -> text as vector\n",
    "* 학습을 통해 새로운 Feature vector를 생성"
   ]
  }
 ],
 "metadata": {
  "interpreter": {
   "hash": "26de051ba29f2982a8de78e945f0abaf191376122a1563185a90213a26c5da77"
  },
  "kernelspec": {
   "display_name": "Python 3.10.4 64-bit",
   "language": "python",
   "name": "python3"
  },
  "language_info": {
   "codemirror_mode": {
    "name": "ipython",
    "version": 3
   },
   "file_extension": ".py",
   "mimetype": "text/x-python",
   "name": "python",
   "nbconvert_exporter": "python",
   "pygments_lexer": "ipython3",
   "version": "3.10.4"
  },
  "orig_nbformat": 4
 },
 "nbformat": 4,
 "nbformat_minor": 2
}

{
 "cells": [
  {
   "cell_type": "code",
   "execution_count": 2,
   "metadata": {},
   "outputs": [],
   "source": [
    "import numpy as np\n",
    "import pandas as pd\n",
    "\n",
    "\n"
   ]
  },
  {
   "cell_type": "code",
   "execution_count": null,
   "metadata": {},
   "outputs": [],
   "source": [
    "# 출력을 소수점 이하 3자리\n",
    "pd.set_option('precision', 3)"
   ]
  },
  {
   "cell_type": "markdown",
   "metadata": {},
   "source": [
    "### 대표값 : 데이터를 하나의 값으로 요약한 지표"
   ]
  },
  {
   "cell_type": "markdown",
   "metadata": {},
   "source": [
    "##### 1. 평균값 (Mean / Average)"
   ]
  },
  {
   "cell_type": "code",
   "execution_count": null,
   "metadata": {},
   "outputs": [],
   "source": [
    "# 데이터의 값을 모두 더한 뒤, 데이터의 갯수로 나누어 계산"
   ]
  },
  {
   "cell_type": "code",
   "execution_count": null,
   "metadata": {},
   "outputs": [],
   "source": [
    "# pandas 계산\n",
    "df['AGE'].mean()"
   ]
  },
  {
   "cell_type": "code",
   "execution_count": null,
   "metadata": {},
   "outputs": [],
   "source": [
    "# numpy 계산\n",
    "np.mean(df['AGE'])"
   ]
  },
  {
   "cell_type": "markdown",
   "metadata": {},
   "source": [
    "##### 2. 중앙값 (Median)"
   ]
  },
  {
   "cell_type": "code",
   "execution_count": null,
   "metadata": {},
   "outputs": [],
   "source": [
    "# 순서대로 나열된 데이터 중, 정확하게 중앙에 위치한 값\n",
    "# 데이터의 이상값이 존재할 때, 평균값보다 대표값을 잘 표현\n",
    "# 즉 이상값의 영향을 덜 받음"
   ]
  },
  {
   "cell_type": "code",
   "execution_count": null,
   "metadata": {},
   "outputs": [],
   "source": [
    "# pandas 계산\n",
    "df['AGE'].median()"
   ]
  },
  {
   "cell_type": "code",
   "execution_count": null,
   "metadata": {},
   "outputs": [],
   "source": [
    "# numpy 계산\n",
    "np.median(df['AGE'])"
   ]
  },
  {
   "cell_type": "markdown",
   "metadata": {},
   "source": [
    "##### 3. 최빈값 (Mode)"
   ]
  },
  {
   "cell_type": "code",
   "execution_count": null,
   "metadata": {},
   "outputs": [],
   "source": [
    "# 데이터에서 가장 많이 나타나는 값"
   ]
  },
  {
   "cell_type": "code",
   "execution_count": null,
   "metadata": {},
   "outputs": [],
   "source": [
    "# pandas 계산\n",
    "df['age'].mode()"
   ]
  },
  {
   "cell_type": "code",
   "execution_count": null,
   "metadata": {},
   "outputs": [],
   "source": [
    "# numpy 계산은 불가"
   ]
  },
  {
   "cell_type": "markdown",
   "metadata": {},
   "source": [
    "### 산포도"
   ]
  },
  {
   "cell_type": "code",
   "execution_count": null,
   "metadata": {},
   "outputs": [],
   "source": [
    "# 대표값을 중심으로 자료들이 흩어져 있는 정도\n",
    "# 수치가 작을수록 자료들이 대표값에 밀집\n",
    "# 수치가 클수록 자료들이 대표값을 중심으로 멀리 흩어져 있다."
   ]
  },
  {
   "cell_type": "markdown",
   "metadata": {},
   "source": [
    "#### 0. 편차"
   ]
  },
  {
   "cell_type": "code",
   "execution_count": null,
   "metadata": {},
   "outputs": [],
   "source": [
    "# 각 데이터가 평균으로부터 어느 정도 떨어져 있는지\n",
    "# 편차 값들의 평균은 0 -> 편차 평균으로 산포도를 계산할 수 없다.\n",
    "# 분산을 활용하자"
   ]
  },
  {
   "cell_type": "markdown",
   "metadata": {},
   "source": [
    "##### 1. 분산"
   ]
  },
  {
   "cell_type": "code",
   "execution_count": null,
   "metadata": {},
   "outputs": [],
   "source": [
    "# 편차의 제곱을 합산하여 평균을 계산한 값"
   ]
  },
  {
   "cell_type": "code",
   "execution_count": null,
   "metadata": {},
   "outputs": [],
   "source": [
    "# pandas : 전체와 표본을 고려 / 불편분산\n",
    "df.var()\n",
    "df.var(ddof=0) # 표본분산화\n",
    "\n",
    "# numpy : 기본 표본분산의 개념\n",
    "np.var(df)"
   ]
  },
  {
   "cell_type": "markdown",
   "metadata": {},
   "source": [
    "##### 2. 표준편차"
   ]
  },
  {
   "cell_type": "code",
   "execution_count": 7,
   "metadata": {},
   "outputs": [],
   "source": [
    "# 분산에 제곱근을 취하여 원래의 데이터와 동일한 단위를 쓰도록 만들어진 산포도의 지표"
   ]
  },
  {
   "cell_type": "code",
   "execution_count": null,
   "metadata": {},
   "outputs": [],
   "source": [
    "# pandas\n",
    "df.std(ddof=0)\n",
    "\n",
    "# numpy\n",
    "np.sqrt(np.var(df)) # 제곱근 함수를 분산값에 적용\n",
    "np.std(df) # 함수를 그대로 활용"
   ]
  },
  {
   "cell_type": "markdown",
   "metadata": {},
   "source": [
    "#### 3. 사분위"
   ]
  },
  {
   "cell_type": "code",
   "execution_count": null,
   "metadata": {},
   "outputs": [],
   "source": [
    "# 범위(range) : 데이터의 최대값과 최소값만으로 산포도를 표현\n",
    "# 데이터 전체를 담은 표현 방식은 아님\n",
    "# 즉 최대값-최소값의 차이가 크면 산포도가 크고, 차이가 작으면 산포도가 작다\n",
    "# 값 2개만 활용하기에 개략적인 지표, 이상값을 반영하는데 있어 수준이 낮은 지표"
   ]
  },
  {
   "cell_type": "code",
   "execution_count": null,
   "metadata": {},
   "outputs": [],
   "source": [
    "df.max() - df.min()\n",
    "np.max() - np.min()"
   ]
  },
  {
   "cell_type": "code",
   "execution_count": null,
   "metadata": {},
   "outputs": [],
   "source": [
    "# 사분위 범위 (interquartile range)\n",
    "# 데이터의 하위 25%, 50%, 75%에 위치하는 값으로 표현\n",
    "# Q3 - Q1을 사분위 범위 IQR로 정의\n",
    "# 이상값을 반영한 산포도 표현하는 것에 효과적\n",
    "# 분산과 표준편차는 평균값에 대해 정의되는 산포도 지표\n",
    "# 사분위 범위는 중앙값(Q2)에 대해 정의되는 산포도 지표"
   ]
  },
  {
   "cell_type": "code",
   "execution_count": null,
   "metadata": {},
   "outputs": [],
   "source": [
    "# pandas (Q3 - Q1)\n",
    "df.quantile(q=0.75) - df.quantile(q=0.25)\n",
    "\n",
    "# numpy (Q3 - Q1)\n",
    "np.percentile(df, 75) - np.percentile(df, 25)"
   ]
  },
  {
   "cell_type": "code",
   "execution_count": null,
   "metadata": {},
   "outputs": [],
   "source": [
    "# 데이터의 대표값 / 산포도 한 번에 확인\n",
    "pd.describe()"
   ]
  },
  {
   "cell_type": "markdown",
   "metadata": {},
   "source": [
    "### 정규화"
   ]
  },
  {
   "cell_type": "code",
   "execution_count": null,
   "metadata": {},
   "outputs": [],
   "source": [
    "# 평균과 분산이 다른 데이터 분포에서 어떻게 상대적인 수준을 파악할까\n",
    "# 정규화!!\n",
    "\n",
    "# 데이터를 통일된 지표로 변환하는 것"
   ]
  },
  {
   "cell_type": "markdown",
   "metadata": {},
   "source": [
    "#### 1. 표준화"
   ]
  },
  {
   "cell_type": "code",
   "execution_count": null,
   "metadata": {},
   "outputs": [],
   "source": [
    "# 데이터에서 평균을 빼고, 표준편차로 나누는 작업\n",
    "# 표준화된 데이터 : 표준화 변량 (Standardized Data) or z점수 (z-score)"
   ]
  },
  {
   "cell_type": "code",
   "execution_count": null,
   "metadata": {},
   "outputs": [],
   "source": [
    "#pandas\n",
    "df - df.mead() / df.std(ddof =0)\n",
    "\n",
    "#numpy\n",
    "df - np.mead(df) / np.std(df)"
   ]
  },
  {
   "cell_type": "code",
   "execution_count": null,
   "metadata": {},
   "outputs": [],
   "source": [
    "# 표준화 변환 이 후 평균, 표준편차 측정\n",
    "\n",
    "# pandas : 평균은 약 0, 표준편차는 약 1로 변경\n",
    "# numpy : 평균은 약 0, 표준편차는 약 1로 변경"
   ]
  },
  {
   "cell_type": "markdown",
   "metadata": {},
   "source": [
    "#### 2. 편찻값"
   ]
  },
  {
   "cell_type": "code",
   "execution_count": null,
   "metadata": {},
   "outputs": [],
   "source": [
    "# 평균이 50, 표준편차가 10이 되도록 정규화한 값\n",
    "z = 50 + 10 * 데이터값 - 평균 / 표준편차"
   ]
  },
  {
   "cell_type": "code",
   "execution_count": null,
   "metadata": {},
   "outputs": [],
   "source": [
    "#pandas\n",
    "50 + 10 * (df - df.mead() / df.std(ddof =0))\n",
    "\n",
    "#numpy\n",
    "50 + 10 * (df - np.mead(df) / np.std(df))"
   ]
  },
  {
   "cell_type": "code",
   "execution_count": null,
   "metadata": {},
   "outputs": [],
   "source": [
    "# 점수와 편차값 비교\n",
    "# 편차값을 통해 누가 평균적인 성적을 얻고, 누가 우수한 성적을 얻었는지 한눈에 파악\n"
   ]
  },
  {
   "cell_type": "markdown",
   "metadata": {},
   "source": [
    "### 시각화"
   ]
  },
  {
   "cell_type": "markdown",
   "metadata": {},
   "source": [
    "#### 1. 도수분포표"
   ]
  },
  {
   "cell_type": "code",
   "execution_count": null,
   "metadata": {},
   "outputs": [],
   "source": [
    "# 데이터가 가지는 값들을 몇 개의 구간으로 나누고, 각 구간에 몇 개의 데이터가 포함되는지 세는 방법\n",
    "# 분할된 구간과 데이터의 개수를 표로 정리\n",
    "# numpy.histogram"
   ]
  },
  {
   "cell_type": "code",
   "execution_count": null,
   "metadata": {},
   "outputs": [],
   "source": [
    "freq, range = np.histogram(df, bins=10, range=(0,100))\n",
    "# freq : 빈도 / 도수\n",
    "# range : 범위 / 계급"
   ]
  },
  {
   "cell_type": "code",
   "execution_count": null,
   "metadata": {},
   "outputs": [],
   "source": [
    "# 도수분포표 표현 : 점수의 분포를 쉽게 확인\n",
    "freq_dist_df = pd.DataFrame(\n",
    "    {'frequence':freq},\n",
    "    index = pd.index(\n",
    "        freq_class,\n",
    "        name='class'\n",
    "    )\n",
    ")\n",
    "\n",
    "# 계급값 : 각 계급을 대표하는 값으로 계급의 중앙값 이용\n",
    "# 상대도수 : 해당 계급의 데이터가 전체 데이터 개수 대비 어느정도의 비율을 차지하는지\n",
    "relative_frequency = freq_dist_df / freq_dist_df.sum()\n",
    "# 상대도수가 최빈값 찾는데 매우 유용\n",
    "\n",
    "# 누적상대도수 : 해당 계급의 데이터까지 전체 데이터 개수 대비 어느 정도의 비율을 차지하는지\n",
    "cumulative_relative_frequency = freq_dist_df.cumsum() / freq_dist_df.sum()"
   ]
  },
  {
   "cell_type": "markdown",
   "metadata": {},
   "source": [
    "#### 2.히스토그램"
   ]
  },
  {
   "cell_type": "code",
   "execution_count": null,
   "metadata": {},
   "outputs": [],
   "source": [
    "# 도수분포표를 막대 그래프로 표현 : 데이터 분포 상태를 시각적으로 파악"
   ]
  },
  {
   "cell_type": "code",
   "execution_count": null,
   "metadata": {},
   "outputs": [],
   "source": [
    "# 캔버스 생성\n",
    "fig = plt.figure(figsize=(10,6))\n",
    "\n",
    "# 캔버스 위에 그릴 영역 지정 (nrow, ncols, index)\n",
    "ax = fig.add_subplot(1,1,1)\n",
    "\n",
    "# 계급수 10으로 히스토그램 그림\n",
    "freq, _, _ = ax.hist(df, bins = 10, range = (0,100))\n",
    "\n",
    "# Label 설정\n",
    "ax.set_xlabel('score')\n",
    "ax.set_ylabel('person number')\n",
    "\n",
    "# 눈금 구분\n",
    "ax.set_xticks(np.linspace(0,100,10+1))\n",
    "ax.set_xticks(np.arange(0,freq.max()+1))\n",
    "\n",
    "# 그래프 표시\n",
    "plt.show()"
   ]
  },
  {
   "cell_type": "markdown",
   "metadata": {},
   "source": [
    "#### 3. 상자그림"
   ]
  },
  {
   "cell_type": "code",
   "execution_count": null,
   "metadata": {},
   "outputs": [],
   "source": [
    "# Box plot\n",
    "# 데이터의 분포와 이상값을 시각적으로 파악\n",
    "# 사분위수를 이용하여 그래프를 그림\n",
    "# Q1 - 1.5 * IQR / Q3 + 1.5 * IQR"
   ]
  },
  {
   "cell_type": "code",
   "execution_count": null,
   "metadata": {},
   "outputs": [],
   "source": [
    "ax = fig.add_subpolt(1,1,1)\n",
    "ax.boxplot(df, labels=['subject_a'])"
   ]
  }
 ],
 "metadata": {
  "interpreter": {
   "hash": "26de051ba29f2982a8de78e945f0abaf191376122a1563185a90213a26c5da77"
  },
  "kernelspec": {
   "display_name": "Python 3.10.4 64-bit",
   "language": "python",
   "name": "python3"
  },
  "language_info": {
   "codemirror_mode": {
    "name": "ipython",
    "version": 3
   },
   "file_extension": ".py",
   "mimetype": "text/x-python",
   "name": "python",
   "nbconvert_exporter": "python",
   "pygments_lexer": "ipython3",
   "version": "3.10.4"
  },
  "orig_nbformat": 4
 },
 "nbformat": 4,
 "nbformat_minor": 2
}

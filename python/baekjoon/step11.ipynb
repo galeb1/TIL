{
 "cells": [
  {
   "cell_type": "markdown",
   "metadata": {},
   "source": [
    "### Q1. 수 정렬하기 / 2750번"
   ]
  },
  {
   "cell_type": "code",
   "execution_count": 21,
   "metadata": {},
   "outputs": [
    {
     "name": "stdout",
     "output_type": "stream",
     "text": [
      "1\n",
      "2\n",
      "3\n",
      "4\n",
      "5\n"
     ]
    }
   ],
   "source": [
    "n = int(input('숫자 갯수: '))\n",
    "\n",
    "def sort_result(n):\n",
    "\n",
    "    numbers = []\n",
    "\n",
    "    for i in range(n):\n",
    "        numbers.append(int(input('입력할 숫자: ')))\n",
    "\n",
    "    numbers.sort() # 정렬\n",
    "\n",
    "    for j in range(n):\n",
    "        print(numbers[j])\n",
    "\n",
    "sort_result(n)"
   ]
  },
  {
   "cell_type": "code",
   "execution_count": 38,
   "metadata": {},
   "outputs": [
    {
     "name": "stdout",
     "output_type": "stream",
     "text": [
      "1\n",
      "2\n",
      "3\n",
      "4\n",
      "5\n"
     ]
    }
   ],
   "source": [
    "n = int(input('숫자 갯수: '))\n",
    "\n",
    "numbers = []\n",
    "\n",
    "for i in range(n):\n",
    "    numbers.append(int(input('입력할 숫자: ')))\n",
    "\n",
    "for i in range(n):\n",
    "    for j in range(n):\n",
    "        if numbers[i] < numbers[j]:\n",
    "            numbers[i], numbers[j] = numbers[j], numbers[i]\n",
    "\n",
    "for j in range(n):\n",
    "    print(numbers[j])"
   ]
  },
  {
   "cell_type": "markdown",
   "metadata": {},
   "source": [
    "### Q2. 수 정렬하기2 / 2751번"
   ]
  },
  {
   "cell_type": "code",
   "execution_count": 7,
   "metadata": {},
   "outputs": [],
   "source": [
    "def merge_sort(arr):\n",
    "    if len(arr) < 2:\n",
    "        return arr\n",
    "\n",
    "    mid = len(arr) // 2\n",
    "    low_arr = merge_sort(arr[:mid])\n",
    "    high_arr = merge_sort(arr[mid:])\n",
    "\n",
    "    merged_arr = []\n",
    "    l = h = 0\n",
    "    while l < len(low_arr) and h < len(high_arr):\n",
    "        if low_arr[l] > high_arr[h]:\n",
    "            merged_arr.append(low_arr[l])\n",
    "            l += 1\n",
    "        else:\n",
    "            merged_arr.append(high_arr[h])\n",
    "            h += 1\n",
    "    merged_arr += low_arr[l:]\n",
    "    merged_arr += high_arr[h:]\n",
    "    return merged_arr\n",
    "\n",
    "n = int(input('숫자 갯수: '))\n",
    "numbers = []\n",
    "\n",
    "for i in range(n):\n",
    "    numbers.append(int(input('입력할 숫자: ')))\n",
    "\n",
    "merge_sort(numbers)"
   ]
  },
  {
   "cell_type": "code",
   "execution_count": 4,
   "metadata": {},
   "outputs": [
    {
     "name": "stdout",
     "output_type": "stream",
     "text": [
      "5\n",
      "4\n",
      "3\n",
      "2\n",
      "1\n"
     ]
    }
   ],
   "source": [
    "n = int(input('숫자 갯수: '))\n",
    "\n",
    "\n",
    "numbers = []\n",
    "\n",
    "for i in range(n):\n",
    "    numbers.append(int(input('입력할 숫자: ')))\n",
    "\n",
    "\n",
    "numbers_set = set(numbers) # 집합으로 변환시켜서 중복제거\n",
    "numbers = list(numbers_set) # 다시 리스트로 변환\n",
    "numbers.sort(reverse=True) # 정렬\n",
    "\n",
    "for j in range(n):\n",
    "    print(numbers[j])"
   ]
  },
  {
   "cell_type": "code",
   "execution_count": 10,
   "metadata": {},
   "outputs": [],
   "source": [
    "# 구글의 힘을 빌린 코드\n",
    "import sys\n",
    "n = int(input())\n",
    "l = []\n",
    "for i in range(n):\n",
    "    l.append(int(sys.stdin.readline()))\n",
    "for i in sorted(l): # sorted를 for문에 사용 가능하구나!!\n",
    "    sys.stdout.write(str(i)+'\\n') # 이건 뭘까"
   ]
  },
  {
   "cell_type": "markdown",
   "metadata": {},
   "source": [
    "### Q4. 통계학 / 2108번"
   ]
  },
  {
   "cell_type": "code",
   "execution_count": 4,
   "metadata": {},
   "outputs": [
    {
     "name": "stdout",
     "output_type": "stream",
     "text": [
      "2\n",
      "2\n",
      "10\n"
     ]
    }
   ],
   "source": [
    "n = int(input('수의 개수: '))\n",
    "\n",
    "numbers = []\n",
    "\n",
    "# 평균\n",
    "for i in range(n):\n",
    "    numbers.append(int(input('입력할 정수들: ')))\n",
    "\n",
    "def num_mean(numbers):\n",
    "    n_mean = 0\n",
    "    for i in numbers:\n",
    "        n_mean += i\n",
    "    return int(round(n_mean / len(numbers), 0))\n",
    "\n",
    "print(num_mean(numbers))\n",
    "\n",
    "# 중앙값\n",
    "def num_median(numbers):\n",
    "\n",
    "    numbers.sort()\n",
    "\n",
    "    for i in numbers:\n",
    "        if  (len(numbers) % 2) == 0:\n",
    "            a = numbers[int(round(len(numbers) / 2,0))]\n",
    "            b = numbers[int(round(len(numbers) / 2,0))+1]\n",
    "            return a, b\n",
    "        else:\n",
    "            a = numbers[int(round(len(numbers) / 2,0))]\n",
    "            return a\n",
    "\n",
    "print(num_median(numbers))\n",
    "\n",
    "# 최빈값\n",
    "from collections import Counter\n",
    "\n",
    "def num_mode(numbers):\n",
    "\n",
    "    numbers.sort()\n",
    "    \n",
    "    numbers_set = Counter(numbers).most_common()\n",
    "    if len(numbers_set) > 1:\n",
    "        if numbers_set[0][1] == numbers_set[1][1]:\n",
    "            print(numbers_set[1][0])\n",
    "        else:\n",
    "            print(numbers_set[0][0])\n",
    "    else:\n",
    "        print(numbers_set[0][0])\n",
    "\n",
    "print(num_mode(numbers)\n",
    ")\n",
    "# 범위\n",
    "def num_range(numbers):\n",
    "\n",
    "    numbers.sort()\n",
    "\n",
    "    return numbers[-1] - numbers[0]\n",
    "\n",
    "print(num_range(numbers))"
   ]
  },
  {
   "cell_type": "code",
   "execution_count": 11,
   "metadata": {},
   "outputs": [],
   "source": [
    "import sys\n",
    "from collections import Counter\n",
    "\n",
    "n = int(sys.stdin.readline())\n",
    "nums = []\n",
    "for i in range(n):\n",
    "    nums.append(int(sys.stdin.readline()))\n",
    "\n",
    "nums.sort()\n",
    "\n",
    "print(round(sum(nums) / n))\n",
    "\n",
    "print(nums[n // 2])\n",
    "\n",
    "nums_s = Counter(nums).most_common()\n",
    "if len(nums_s) > 1:\n",
    "    if nums_s[0][1] == nums_s[1][1]:\n",
    "        print(nums_s[1][0])\n",
    "    else:\n",
    "        print(nums_s[0][0])\n",
    "else:\n",
    "    print(nums_s[0][0])\n",
    "\n",
    "print(nums[-1] - nums[0])"
   ]
  },
  {
   "cell_type": "code",
   "execution_count": 2,
   "metadata": {},
   "outputs": [],
   "source": [
    "from collections import Counter\n",
    "\n",
    "nums=[5,3,1,-2,4]\n",
    "\n",
    "nums_s = Counter(nums).most_common()"
   ]
  },
  {
   "cell_type": "code",
   "execution_count": 6,
   "metadata": {},
   "outputs": [
    {
     "data": {
      "text/plain": [
       "[(-2, 1), (1, 1), (3, 1), (4, 1), (5, 1)]"
      ]
     },
     "execution_count": 6,
     "metadata": {},
     "output_type": "execute_result"
    }
   ],
   "source": [
    "nums_s"
   ]
  },
  {
   "cell_type": "code",
   "execution_count": 5,
   "metadata": {},
   "outputs": [
    {
     "name": "stdout",
     "output_type": "stream",
     "text": [
      "1\n"
     ]
    }
   ],
   "source": [
    "\n",
    "nums_s.sort()\n",
    "if len(nums_s) > 1:\n",
    "    if nums_s[0][1] == nums_s[1][1]:\n",
    "        print(nums_s[1][0])\n",
    "    else:\n",
    "        print(nums_s[0][0])\n",
    "else:\n",
    "    print(nums_s[0][0])"
   ]
  }
 ],
 "metadata": {
  "interpreter": {
   "hash": "26de051ba29f2982a8de78e945f0abaf191376122a1563185a90213a26c5da77"
  },
  "kernelspec": {
   "display_name": "Python 3.10.4 64-bit",
   "language": "python",
   "name": "python3"
  },
  "language_info": {
   "codemirror_mode": {
    "name": "ipython",
    "version": 3
   },
   "file_extension": ".py",
   "mimetype": "text/x-python",
   "name": "python",
   "nbconvert_exporter": "python",
   "pygments_lexer": "ipython3",
   "version": "3.10.4"
  },
  "orig_nbformat": 4
 },
 "nbformat": 4,
 "nbformat_minor": 2
}

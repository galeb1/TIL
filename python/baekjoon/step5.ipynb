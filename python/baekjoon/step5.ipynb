{
 "cells": [
  {
   "cell_type": "markdown",
   "metadata": {},
   "source": [
    "#### Q2. 셀프넘버"
   ]
  },
  {
   "cell_type": "code",
   "execution_count": 6,
   "metadata": {},
   "outputs": [],
   "source": [
    "def self_number():\n",
    "    not_self_number_list = []\n",
    "    for x in range(10000):\n",
    "        if x < 10:\n",
    "            not_self_number_list.append(x + int(str(x)[0]))\n",
    "        elif x < 100:\n",
    "            not_self_number_list.append(x + int(str(x)[0]) + int(str(x)[1]))\n",
    "        elif x < 1000:\n",
    "            not_self_number_list.append(x + int(str(x)[0]) + int(str(x)[1]) + int(str(x)[2]))\n",
    "        else:\n",
    "            not_self_number_list.append(x + int(str(x)[0]) + int(str(x)[1]) + int(str(x)[2]) + int(str(x)[3]))\n",
    "    for x in range(10000):\n",
    "        if x not in not_self_number_list:\n",
    "            print(x)\n",
    "    "
   ]
  },
  {
   "cell_type": "code",
   "execution_count": null,
   "metadata": {},
   "outputs": [],
   "source": [
    "not_self_number_list = []\n",
    "for x in range(10000):\n",
    "    if x < 10:\n",
    "        not_self_number_list.append(x + int(str(x)[0]))\n",
    "    elif x < 100:\n",
    "        not_self_number_list.append(x + int(str(x)[0]) + int(str(x)[1]))\n",
    "    elif x < 1000:\n",
    "        not_self_number_list.append(x + int(str(x)[0]) + int(str(x)[1]) + int(str(x)[2]))\n",
    "    else:\n",
    "        not_self_number_list.append(x + int(str(x)[0]) + int(str(x)[1]) + int(str(x)[2]) + int(str(x)[3]))\n",
    "for x in range(10000):\n",
    "    if x not in not_self_number_list:\n",
    "        print(x)"
   ]
  },
  {
   "cell_type": "markdown",
   "metadata": {},
   "source": [
    "#### Q3. 한수"
   ]
  },
  {
   "cell_type": "code",
   "execution_count": 11,
   "metadata": {},
   "outputs": [
    {
     "name": "stdout",
     "output_type": "stream",
     "text": [
      "144\n"
     ]
    }
   ],
   "source": [
    "n = int(input())\n",
    "count = 0\n",
    "for i in range(1, n+1):\n",
    "    if i < 100:\n",
    "        count += 1  # 100미만은 다 한수임\n",
    "    else:           # 한수의 조건 각 자리가 등차수열을 이루어야 함 -> 3자리 중 2번째 자리 - 1번째 자리 == 3번째 자리 - 2번째 자리가  조건이 되어야 함\n",
    "        if int(str(i)[1]) - int(str(i)[0]) == int(str(i)[2]) - int(str(i)[1]): \n",
    "            count += 1\n",
    "        else:\n",
    "            pass\n",
    "print(count)"
   ]
  }
 ],
 "metadata": {
  "interpreter": {
   "hash": "26de051ba29f2982a8de78e945f0abaf191376122a1563185a90213a26c5da77"
  },
  "kernelspec": {
   "display_name": "Python 3.10.4 64-bit",
   "language": "python",
   "name": "python3"
  },
  "language_info": {
   "codemirror_mode": {
    "name": "ipython",
    "version": 3
   },
   "file_extension": ".py",
   "mimetype": "text/x-python",
   "name": "python",
   "nbconvert_exporter": "python",
   "pygments_lexer": "ipython3",
   "version": "3.10.4"
  },
  "orig_nbformat": 4
 },
 "nbformat": 4,
 "nbformat_minor": 2
}

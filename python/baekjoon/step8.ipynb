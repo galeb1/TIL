{
 "cells": [
  {
   "cell_type": "markdown",
   "metadata": {},
   "source": [
    "### Q1. 소수찾기 / 1978"
   ]
  },
  {
   "cell_type": "code",
   "execution_count": 9,
   "metadata": {},
   "outputs": [
    {
     "name": "stdout",
     "output_type": "stream",
     "text": [
      "3\n"
     ]
    }
   ],
   "source": [
    "n = int(input())\n",
    "numbers = map(int, input().split())\n",
    "sosu = 0\n",
    "for num in numbers:\n",
    "    error = 0\n",
    "    if num > 1 :\n",
    "        for i in range(2, num):  # 2부터 n-1까지\n",
    "            if num % i == 0:\n",
    "                error += 1  # 2부터 n-1까지 나눈 몫이 0이면 error가 증가\n",
    "        if error == 0:\n",
    "            sosu += 1  # error가 없으면 소수.\n",
    "print(sosu)"
   ]
  },
  {
   "cell_type": "markdown",
   "metadata": {},
   "source": [
    "### Q2. 소수찾기2 / 2581"
   ]
  },
  {
   "cell_type": "code",
   "execution_count": 9,
   "metadata": {},
   "outputs": [
    {
     "name": "stdout",
     "output_type": "stream",
     "text": [
      "620\n",
      "61\n"
     ]
    }
   ],
   "source": [
    "start_num = int(input())\n",
    "last_num = int(input())\n",
    "\n",
    "sosu_list = []\n",
    "for num in range(start_num, last_num+1):\n",
    "    error = 0\n",
    "    if num > 1 :\n",
    "        for i in range(2, num):  # 2부터 num-1까지\n",
    "            if num % i == 0:\n",
    "                error += 1\n",
    "                break  # 2부터 num-1까지 나눈 몫이 0이면 error가 증가하고 for문을 끝냄\n",
    "        if error == 0:\n",
    "            sosu_list.append(num)  # error가 없으면 소수리스트에 추가\n",
    "            \n",
    "if len(sosu_list) > 0 :\n",
    "    print(sum(sosu_list))\n",
    "    print(min(sosu_list))\n",
    "else:\n",
    "    print(-1)"
   ]
  },
  {
   "cell_type": "markdown",
   "metadata": {},
   "source": [
    "### Q3. 소인수분해 / 11653"
   ]
  },
  {
   "cell_type": "code",
   "execution_count": 14,
   "metadata": {},
   "outputs": [
    {
     "name": "stdout",
     "output_type": "stream",
     "text": [
      "2\n",
      "2\n",
      "2\n",
      "3\n",
      "3\n"
     ]
    }
   ],
   "source": [
    "N = int(input())\n",
    "m = 2\n",
    "while N!=1:  # N과m을 나눴을때 몫이 1이 되면 멈춤.\n",
    "  if N%m==0: \n",
    "    print(m) \n",
    "    N = N//m\n",
    "  else:\n",
    "    m += 1\n"
   ]
  },
  {
   "cell_type": "markdown",
   "metadata": {},
   "source": [
    "### Q4. 소수 구하기 / 1929"
   ]
  },
  {
   "cell_type": "code",
   "execution_count": 25,
   "metadata": {},
   "outputs": [
    {
     "name": "stdout",
     "output_type": "stream",
     "text": [
      "3\n",
      "5\n",
      "7\n",
      "11\n",
      "13\n"
     ]
    }
   ],
   "source": [
    "import math\n",
    "def isPrime(num):\n",
    "    if num ==1:\n",
    "        return False\n",
    "    \n",
    "    sq = int(math.sqrt(num))\n",
    "\n",
    "    for i in range(2, sq+1):\n",
    "        if num % i == 0:\n",
    "            return False\n",
    "\n",
    "    return True\n",
    "\n",
    "m, n = map(int, input().split())\n",
    "\n",
    "for i in range(m, n+1):\n",
    "    if isPrime(i):\n",
    "        print(i)"
   ]
  },
  {
   "cell_type": "markdown",
   "metadata": {},
   "source": [
    "### Q5. 베르트랑 공준 / 4948"
   ]
  },
  {
   "cell_type": "code",
   "execution_count": null,
   "metadata": {},
   "outputs": [],
   "source": [
    "import sys\n",
    "\n",
    "n_max = 123456\n",
    "is_prime = [True] * (2 * n_max + 1)\n",
    "is_prime[0], is_prime[1] = False, False\n",
    "\n",
    "for i in range(2, int((2 * n_max) ** 0.5) + 1):\n",
    "    if is_prime[i]:\n",
    "        j = 2\n",
    "        while (i * j) <= (2 * n_max):\n",
    "            is_prime[i * j] = False\n",
    "            j += 1\n",
    "\n",
    "while (n := int(sys.stdin.readline())) != 0:\n",
    "    print(is_prime[n + 1:(2 * n) + 1].count(True))\n",
    "\n",
    "\n",
    "# 뭔 엿같은 이론들이 나오네\n",
    "\n",
    "# 에라토스테네스의 체"
   ]
  },
  {
   "cell_type": "markdown",
   "metadata": {},
   "source": [
    "### Q6. 골드바흐의 추측 / 9020"
   ]
  },
  {
   "cell_type": "code",
   "execution_count": null,
   "metadata": {},
   "outputs": [],
   "source": [
    "\n",
    "def Goldbach():\n",
    "    check = [False, False] + [True] * 10000\n",
    "    \n",
    "    for i in range(2, 101):\n",
    "        if check[i] == True:\n",
    "            for j in range(i + i, 10001, i):\n",
    "                check[j] = False\n",
    "\n",
    "    T = int(input())\n",
    "    for _ in range(T):\n",
    "        n = int(input())\n",
    "\n",
    "        A = n // 2\n",
    "        B = A\n",
    "        for _ in range(10000):\n",
    "            if check[A] and check[B]:\n",
    "                print(A, B)\n",
    "                break\n",
    "            A -= 1\n",
    "            B += 1\n",
    "\n",
    "Goldbach()\n"
   ]
  }
 ],
 "metadata": {
  "interpreter": {
   "hash": "26de051ba29f2982a8de78e945f0abaf191376122a1563185a90213a26c5da77"
  },
  "kernelspec": {
   "display_name": "Python 3.10.4 64-bit",
   "language": "python",
   "name": "python3"
  },
  "language_info": {
   "codemirror_mode": {
    "name": "ipython",
    "version": 3
   },
   "file_extension": ".py",
   "mimetype": "text/x-python",
   "name": "python",
   "nbconvert_exporter": "python",
   "pygments_lexer": "ipython3",
   "version": "3.10.4"
  },
  "orig_nbformat": 4
 },
 "nbformat": 4,
 "nbformat_minor": 2
}

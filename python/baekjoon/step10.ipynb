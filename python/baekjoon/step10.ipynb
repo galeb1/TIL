{
 "cells": [
  {
   "cell_type": "markdown",
   "metadata": {},
   "source": [
    "### Q1. 블랙잭 /2798번"
   ]
  },
  {
   "cell_type": "code",
   "execution_count": 1,
   "metadata": {},
   "outputs": [
    {
     "name": "stdout",
     "output_type": "stream",
     "text": [
      "21\n"
     ]
    }
   ],
   "source": [
    "N, M = map(int, input().split())\n",
    "card_num = list(map(int, input().split()))\n",
    "\n",
    "result = 0\n",
    "\n",
    "for i in range(N):\n",
    "    for j in range(i + 1, N):\n",
    "        for z in range(j + 1, N):\n",
    "            card_combi_sum = card_num[i] + card_num[j] + card_num[z]\n",
    "            if card_combi_sum <= M:\n",
    "                result = max(result, card_combi_sum)\n",
    "                \n",
    "print(result)"
   ]
  },
  {
   "cell_type": "code",
   "execution_count": 2,
   "metadata": {},
   "outputs": [
    {
     "name": "stdout",
     "output_type": "stream",
     "text": [
      "497\n"
     ]
    }
   ],
   "source": [
    "import itertools\n",
    "\n",
    "N, M = map(int, input().split())\n",
    "card_num = list(map(int, input().split()))\n",
    "\n",
    "# M을 넘지 않으면서 M에 최대한 가까운 카드 3장의 합\n",
    "combi_sum = [sum(combi) for combi in itertools.combinations(card_num, 3) if sum(combi) <= M]\n",
    "\n",
    "print(max(combi_sum))  # 최종 결과 : M에 최대한 가까운 카드 3장의 합"
   ]
  },
  {
   "cell_type": "markdown",
   "metadata": {},
   "source": [
    "##### itertools : 효율적인 루핑을 위한 이터레이터를 만드는 함수"
   ]
  },
  {
   "cell_type": "code",
   "execution_count": 7,
   "metadata": {},
   "outputs": [
    {
     "name": "stdout",
     "output_type": "stream",
     "text": [
      "[(1, 2), (1, 3), (2, 3)]\n",
      "[(1, 1), (1, 2), (1, 3), (2, 2), (2, 3), (3, 3)]\n",
      "[(1, 2), (1, 3), (2, 1), (2, 3), (3, 1), (3, 2)]\n",
      "[(1, 2, 3), (1, 3, 2), (2, 1, 3), (2, 3, 1), (3, 1, 2), (3, 2, 1)]\n",
      "[(1, 4), (1, 5), (1, 6), (2, 4), (2, 5), (2, 6), (3, 4), (3, 5), (3, 6)]\n",
      "[(1, 1, 1), (1, 1, 2), (1, 1, 3), (1, 2, 1), (1, 2, 2), (1, 2, 3), (1, 3, 1), (1, 3, 2), (1, 3, 3), (2, 1, 1), (2, 1, 2), (2, 1, 3), (2, 2, 1), (2, 2, 2), (2, 2, 3), (2, 3, 1), (2, 3, 2), (2, 3, 3), (3, 1, 1), (3, 1, 2), (3, 1, 3), (3, 2, 1), (3, 2, 2), (3, 2, 3), (3, 3, 1), (3, 3, 2), (3, 3, 3)]\n"
     ]
    }
   ],
   "source": [
    "import itertools\n",
    "\n",
    "list = [1,2,3]\n",
    "list2 = [4,5,6]\n",
    "# list에서 원소 개수가 2개인 조합 뽑기\n",
    "print([i for i in itertools.combinations(list, 2)])\n",
    "\n",
    "# list에서 원소 개수가 2개인 중복 조합 뽑기\n",
    "print([i for i in itertools.combinations_with_replacement(list,2)])\n",
    "\n",
    "# list에서 원소 개수가 2개인 or 전부 순열 뽑기\n",
    "print([i for i in itertools.permutations(list,2)])\n",
    "print([i for i in itertools.permutations(list)])\n",
    "\n",
    "# 여러 list의 데카르트곱 리턴\n",
    "print([i for i in itertools.product(list, list2, repeat=1)])\n",
    "print([i for i in itertools.product(list, repeat=3)]) # product(list, list, list, repeat=1)과 동일한 출력"
   ]
  },
  {
   "cell_type": "markdown",
   "metadata": {},
   "source": [
    "### Q2. 분해합 /2231번"
   ]
  },
  {
   "cell_type": "code",
   "execution_count": 14,
   "metadata": {},
   "outputs": [
    {
     "data": {
      "text/plain": [
       "225"
      ]
     },
     "execution_count": 14,
     "metadata": {},
     "output_type": "execute_result"
    }
   ],
   "source": [
    "# 분해합 과정\n",
    "n = int(input())\n",
    "\n",
    "list = []\n",
    "\n",
    "new = int(n)+ sum(list)\n",
    "\n",
    "new\n"
   ]
  },
  {
   "cell_type": "code",
   "execution_count": 18,
   "metadata": {},
   "outputs": [
    {
     "name": "stdout",
     "output_type": "stream",
     "text": [
      "198\n"
     ]
    }
   ],
   "source": [
    "# 정답!!\n",
    "\n",
    "n = int(input())\n",
    "min_n = abs(n-(len(str(n)))*9)  # 시간 최적화\n",
    "\n",
    "\n",
    "for i in range(min_n,n+1):\n",
    "    m = sum(map(int, str(i)))\n",
    "    result = i + m\n",
    "    if result == n:\n",
    "        print(i)\n",
    "        break\n",
    "    \n",
    "    if i == n:\n",
    "        print(0)\n"
   ]
  },
  {
   "cell_type": "markdown",
   "metadata": {},
   "source": [
    "### Q3. 덩치 / 7568번"
   ]
  },
  {
   "cell_type": "code",
   "execution_count": 25,
   "metadata": {},
   "outputs": [
    {
     "name": "stdout",
     "output_type": "stream",
     "text": [
      "2 1 "
     ]
    }
   ],
   "source": [
    "n = int(input())\n",
    "list = []\n",
    "\n",
    "for i in range(n): \n",
    "    a,b = map(int, input().split())\n",
    "    list.append([a,b])\n",
    "\n",
    "for i in list:\n",
    "    rank = 1\n",
    "    for j in list:\n",
    "        if i[0] < j[0] and i[1] < j[1]:\n",
    "            rank += 1\n",
    "    print(rank, end = ' ')"
   ]
  },
  {
   "cell_type": "markdown",
   "metadata": {},
   "source": [
    "### Q4. 체스판 다시 칠하기 / 1018번"
   ]
  },
  {
   "cell_type": "code",
   "execution_count": 1,
   "metadata": {},
   "outputs": [
    {
     "ename": "ValueError",
     "evalue": "not enough values to unpack (expected 2, got 0)",
     "output_type": "error",
     "traceback": [
      "\u001b[1;31m---------------------------------------------------------------------------\u001b[0m",
      "\u001b[1;31mValueError\u001b[0m                                Traceback (most recent call last)",
      "\u001b[1;32mc:\\Users\\LSH\\Documents\\dev\\TIL\\python\\baekjoon\\step10.ipynb Cell 12'\u001b[0m in \u001b[0;36m<cell line: 1>\u001b[1;34m()\u001b[0m\n\u001b[1;32m----> <a href='vscode-notebook-cell:/c%3A/Users/LSH/Documents/dev/TIL/python/baekjoon/step10.ipynb#ch0000013?line=0'>1</a>\u001b[0m N, M \u001b[39m=\u001b[39m \u001b[39mmap\u001b[39m(\u001b[39mint\u001b[39m, \u001b[39minput\u001b[39m()\u001b[39m.\u001b[39msplit())\n\u001b[0;32m      <a href='vscode-notebook-cell:/c%3A/Users/LSH/Documents/dev/TIL/python/baekjoon/step10.ipynb#ch0000013?line=1'>2</a>\u001b[0m original \u001b[39m=\u001b[39m []\n\u001b[0;32m      <a href='vscode-notebook-cell:/c%3A/Users/LSH/Documents/dev/TIL/python/baekjoon/step10.ipynb#ch0000013?line=2'>3</a>\u001b[0m count \u001b[39m=\u001b[39m []\n",
      "\u001b[1;31mValueError\u001b[0m: not enough values to unpack (expected 2, got 0)"
     ]
    }
   ],
   "source": [
    "N, M = map(int, input().split())\n",
    "original = []\n",
    "count = []\n",
    "\n",
    "for _ in range(N):\n",
    "    original.append(input())\n",
    "\n",
    "for a in range(N-7):\n",
    "    for b in range(M-7):\n",
    "        index1 = 0\n",
    "        index2 = 0\n",
    "        for i in range(a, a+8):\n",
    "            for j in range(b, b+8):\n",
    "                if (i+j) % 2 == 0:\n",
    "                    if original[i][j] != 'W':\n",
    "                        index1 += 1\n",
    "                    if original[i][j] != 'B':\n",
    "                        index2 += 1\n",
    "                else:\n",
    "                    if original[i][j] != 'B':\n",
    "                        index1 += 1\n",
    "                    if original[i][j] != 'W':\n",
    "                        index2 += 1\n",
    "        count.append(min(index1, index2))\n",
    "\n",
    "print(min(count))\n",
    "\n",
    "# 이해가 조금 어려움"
   ]
  },
  {
   "cell_type": "markdown",
   "metadata": {},
   "source": [
    "### Q5. 영화감독 숌 / 1436번"
   ]
  },
  {
   "cell_type": "code",
   "execution_count": 3,
   "metadata": {},
   "outputs": [
    {
     "name": "stdout",
     "output_type": "stream",
     "text": [
      "166699\n"
     ]
    }
   ],
   "source": [
    "N = int(input())\n",
    "movie = 666\n",
    "\n",
    "while N:\n",
    "    if \"666\" in str(movie):\n",
    "        N -= 1\n",
    "    movie += 1\n",
    "\n",
    "print(movie - 1)"
   ]
  }
 ],
 "metadata": {
  "interpreter": {
   "hash": "26de051ba29f2982a8de78e945f0abaf191376122a1563185a90213a26c5da77"
  },
  "kernelspec": {
   "display_name": "Python 3.10.4 64-bit",
   "language": "python",
   "name": "python3"
  },
  "language_info": {
   "codemirror_mode": {
    "name": "ipython",
    "version": 3
   },
   "file_extension": ".py",
   "mimetype": "text/x-python",
   "name": "python",
   "nbconvert_exporter": "python",
   "pygments_lexer": "ipython3",
   "version": "3.10.4"
  },
  "orig_nbformat": 4
 },
 "nbformat": 4,
 "nbformat_minor": 2
}
